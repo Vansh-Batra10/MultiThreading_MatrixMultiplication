{
 "cells": [
  {
   "cell_type": "code",
   "execution_count": 1,
   "id": "7d1b3043",
   "metadata": {},
   "outputs": [
    {
     "name": "stdout",
     "output_type": "stream",
     "text": [
      "OS Type:  nt\n"
     ]
    }
   ],
   "source": [
    "import os\n",
    "print (\"OS Type: \", os.name)"
   ]
  },
  {
   "cell_type": "code",
   "execution_count": 2,
   "id": "e35a0e50",
   "metadata": {},
   "outputs": [
    {
     "name": "stdout",
     "output_type": "stream",
     "text": [
      "OS Name:  win32\n"
     ]
    }
   ],
   "source": [
    "import sys\n",
    "\n",
    "print (\"OS Name: \", sys.platform)"
   ]
  },
  {
   "cell_type": "code",
   "execution_count": 3,
   "id": "64ffa510",
   "metadata": {},
   "outputs": [
    {
     "name": "stdout",
     "output_type": "stream",
     "text": [
      "OS Platform:  Windows-10-10.0.22631-SP0\n"
     ]
    }
   ],
   "source": [
    "import platform\n",
    "\n",
    "print (\"OS Platform: \", platform.platform())"
   ]
  },
  {
   "cell_type": "code",
   "execution_count": 4,
   "id": "add0fe31",
   "metadata": {},
   "outputs": [
    {
     "name": "stdout",
     "output_type": "stream",
     "text": [
      "Num of cores are:  12\n"
     ]
    }
   ],
   "source": [
    "import multiprocessing\n",
    "\n",
    "numberOfCores = multiprocessing.cpu_count()\n",
    "print (\"Num of cores are: \", numberOfCores)\n"
   ]
  },
  {
   "cell_type": "code",
   "execution_count": 5,
   "id": "85ebc87d",
   "metadata": {},
   "outputs": [
    {
     "name": "stdout",
     "output_type": "stream",
     "text": [
      "Num of threads:  6\n"
     ]
    }
   ],
   "source": [
    "\n",
    "import threading\n",
    "\n",
    "activeThread = threading.active_count()\n",
    "print (\"Num of threads: \",activeThread)"
   ]
  },
  {
   "cell_type": "code",
   "execution_count": 6,
   "id": "64dd5905",
   "metadata": {},
   "outputs": [],
   "source": [
    "import numpy as np\n",
    "import threading\n",
    "import time"
   ]
  },
  {
   "cell_type": "code",
   "execution_count": 7,
   "id": "6b3fc9c0",
   "metadata": {},
   "outputs": [],
   "source": [
    "def generate_matrices(num,size):\n",
    "    matrices = []\n",
    "    for _ in range(num):\n",
    "        matrices.append(np.random.rand(size,size))\n",
    "    return matrices"
   ]
  },
  {
   "cell_type": "code",
   "execution_count": 8,
   "id": "9f74f02e",
   "metadata": {},
   "outputs": [],
   "source": [
    "def multiply_matrices(constant_matrix, matrices, result, index):\n",
    "    result[index] = np.dot(constant_matrix, matrices[index])"
   ]
  },
  {
   "cell_type": "code",
   "execution_count": 9,
   "id": "2098194a",
   "metadata": {},
   "outputs": [],
   "source": [
    "num_matrices = 100\n",
    "matrix_size = 1000\n",
    "constant_matrix = np.random.rand(matrix_size, matrix_size)"
   ]
  },
  {
   "cell_type": "code",
   "execution_count": 10,
   "id": "d6e12e95",
   "metadata": {},
   "outputs": [
    {
     "data": {
      "text/plain": [
       "array([[0.45956788, 0.00459553, 0.70635893, ..., 0.74139026, 0.03507121,\n",
       "        0.75183941],\n",
       "       [0.3547447 , 0.92230209, 0.52565661, ..., 0.30956736, 0.25061934,\n",
       "        0.62376399],\n",
       "       [0.69504238, 0.01971572, 0.6023758 , ..., 0.09714962, 0.00697255,\n",
       "        0.15957506],\n",
       "       ...,\n",
       "       [0.40012706, 0.21713245, 0.39126997, ..., 0.21452754, 0.62558834,\n",
       "        0.6731677 ],\n",
       "       [0.08257104, 0.13386625, 0.07120852, ..., 0.58588196, 0.64297867,\n",
       "        0.81592487],\n",
       "       [0.5370194 , 0.66772055, 0.58670214, ..., 0.09991497, 0.60747686,\n",
       "        0.83298733]])"
      ]
     },
     "execution_count": 10,
     "metadata": {},
     "output_type": "execute_result"
    }
   ],
   "source": [
    "constant_matrix"
   ]
  },
  {
   "cell_type": "code",
   "execution_count": 11,
   "id": "2baf960c",
   "metadata": {},
   "outputs": [],
   "source": [
    "time_arr=[None]*15"
   ]
  },
  {
   "cell_type": "code",
   "execution_count": 12,
   "id": "c8aaf56a",
   "metadata": {},
   "outputs": [
    {
     "data": {
      "text/plain": [
       "[None,\n",
       " None,\n",
       " None,\n",
       " None,\n",
       " None,\n",
       " None,\n",
       " None,\n",
       " None,\n",
       " None,\n",
       " None,\n",
       " None,\n",
       " None,\n",
       " None,\n",
       " None,\n",
       " None]"
      ]
     },
     "execution_count": 12,
     "metadata": {},
     "output_type": "execute_result"
    }
   ],
   "source": [
    "time_arr"
   ]
  },
  {
   "cell_type": "code",
   "execution_count": 18,
   "id": "0b974c50",
   "metadata": {},
   "outputs": [
    {
     "name": "stderr",
     "output_type": "stream",
     "text": [
      "C:\\Users\\Lenovo\\AppData\\Local\\Temp\\ipykernel_23144\\979209689.py:7: DeprecationWarning: activeCount() is deprecated, use active_count() instead\n",
      "  activeThreads = threading.activeCount()\n",
      "C:\\Users\\Lenovo\\AppData\\Local\\Temp\\ipykernel_23144\\979209689.py:14: DeprecationWarning: activeCount() is deprecated, use active_count() instead\n",
      "  if threading.activeCount() - activeThreads + 1 <= num_threads:\n"
     ]
    },
    {
     "name": "stdout",
     "output_type": "stream",
     "text": [
      "Multiplication with 1 threads:\n"
     ]
    },
    {
     "name": "stderr",
     "output_type": "stream",
     "text": [
      "C:\\Users\\Lenovo\\AppData\\Local\\Temp\\ipykernel_23144\\979209689.py:18: DeprecationWarning: activeCount() is deprecated, use active_count() instead\n",
      "  if threading.activeCount() == activeThreads:\n"
     ]
    },
    {
     "name": "stdout",
     "output_type": "stream",
     "text": [
      " All Thread ends\n",
      "Program Finished\n",
      "Total Time 100.788800 sec\n",
      "Multiplication with 2 threads:\n",
      " All Thread ends\n",
      "Program Finished\n",
      "Total Time 51.199400 sec\n",
      "Multiplication with 3 threads:\n"
     ]
    },
    {
     "name": "stderr",
     "output_type": "stream",
     "text": [
      "C:\\Users\\Lenovo\\AppData\\Local\\Temp\\ipykernel_23144\\979209689.py:21: DeprecationWarning: activeCount() is deprecated, use active_count() instead\n",
      "  print (\"    Thread still running (left %d)...\"%(threading.activeCount() - activeThreads))\n"
     ]
    },
    {
     "name": "stdout",
     "output_type": "stream",
     "text": [
      "    Thread still running (left 1)...\n",
      " All Thread ends\n",
      "Program Finished\n",
      "Total Time 35.939000 sec\n",
      "Multiplication with 4 threads:\n",
      " All Thread ends\n",
      "Program Finished\n",
      "Total Time 31.143700 sec\n",
      "Multiplication with 5 threads:\n",
      "    Thread still running (left 3)...\n",
      " All Thread ends\n",
      "Program Finished\n",
      "Total Time 23.213500 sec\n",
      "Multiplication with 6 threads:\n",
      "    Thread still running (left 4)...\n",
      " All Thread ends\n",
      "Program Finished\n",
      "Total Time 18.090400 sec\n",
      "Multiplication with 7 threads:\n",
      "    Thread still running (left 4)...\n",
      " All Thread ends\n",
      "Program Finished\n",
      "Total Time 15.367700 sec\n",
      "Multiplication with 8 threads:\n",
      "    Thread still running (left 7)...\n",
      " All Thread ends\n",
      "Program Finished\n",
      "Total Time 13.379300 sec\n",
      "Multiplication with 9 threads:\n",
      " All Thread ends\n",
      "Program Finished\n",
      "Total Time 11.048200 sec\n",
      "Multiplication with 10 threads:\n",
      "    Thread still running (left 6)...\n",
      " All Thread ends\n",
      "Program Finished\n",
      "Total Time 14.370100 sec\n",
      "Multiplication with 11 threads:\n",
      "    Thread still running (left 9)...\n",
      " All Thread ends\n",
      "Program Finished\n",
      "Total Time 10.484300 sec\n",
      "Multiplication with 12 threads:\n",
      "    Thread still running (left 6)...\n",
      " All Thread ends\n",
      "Program Finished\n",
      "Total Time 9.143100 sec\n",
      "Multiplication with 13 threads:\n",
      " All Thread ends\n",
      "Program Finished\n",
      "Total Time 8.137000 sec\n",
      "Multiplication with 14 threads:\n",
      " All Thread ends\n",
      "Program Finished\n",
      "Total Time 8.391100 sec\n",
      "Multiplication with 15 threads:\n",
      "    Thread still running (left 13)...\n",
      "    Thread still running (left 8)...\n",
      " All Thread ends\n",
      "Program Finished\n",
      "Total Time 14.516300 sec\n"
     ]
    }
   ],
   "source": [
    "matrices = generate_matrices(num_matrices, matrix_size)\n",
    "result = [None] * num_matrices\n",
    "activeThreads=0\n",
    "for num_threads in range(1, 16):\n",
    "    start_time = time.time()\n",
    "    threads = []\n",
    "    activeThreads = threading.activeCount()\n",
    "    print(f\"Multiplication with {num_threads} threads:\")\n",
    "    for i in range(num_matrices):\n",
    "        thread = threading.Thread(target=multiply_matrices, args=(constant_matrix, matrices, result, i))\n",
    "        threads.append(thread)\n",
    "        thread.start()\n",
    "        while True:\n",
    "            if threading.activeCount() - activeThreads + 1 <= num_threads:\n",
    "                break\n",
    "            time.sleep(1)\n",
    "    while True:\n",
    "        if threading.activeCount() == activeThreads:\n",
    "            break\n",
    "        else:\n",
    "            print (\"    Thread still running (left %d)...\"%(threading.activeCount() - activeThreads))\n",
    "            time.sleep(1)\n",
    "\n",
    "    print(\" All Thread ends\")\n",
    "\n",
    "    print(\"Program Finished\")\n",
    "    print(\"Total Time %f sec\" % (round( time.time() - start_time,4)))\n",
    "    time_arr[num_threads-1]=(round( time.time() - start_time,4))"
   ]
  },
  {
   "cell_type": "code",
   "execution_count": 19,
   "id": "96b84aa8",
   "metadata": {},
   "outputs": [
    {
     "data": {
      "text/plain": [
       "[100.7888,\n",
       " 51.1994,\n",
       " 35.939,\n",
       " 31.1437,\n",
       " 23.2135,\n",
       " 18.0904,\n",
       " 15.3677,\n",
       " 13.3793,\n",
       " 11.0482,\n",
       " 14.3701,\n",
       " 10.4843,\n",
       " 9.1431,\n",
       " 8.137,\n",
       " 8.3911,\n",
       " 14.5163]"
      ]
     },
     "execution_count": 19,
     "metadata": {},
     "output_type": "execute_result"
    }
   ],
   "source": [
    "time_arr"
   ]
  },
  {
   "cell_type": "code",
   "execution_count": 15,
   "id": "cb3c689b",
   "metadata": {},
   "outputs": [],
   "source": [
    "import matplotlib.pyplot as plt"
   ]
  },
  {
   "cell_type": "code",
   "execution_count": 20,
   "id": "15f42f71",
   "metadata": {},
   "outputs": [],
   "source": [
    "num_threads = [1, 2, 3, 4, 5, 6, 7, 8,9,10,11,12,13,14,15]"
   ]
  },
  {
   "cell_type": "code",
   "execution_count": 21,
   "id": "17095c48",
   "metadata": {},
   "outputs": [
    {
     "data": {
      "image/png": "[encoded data removed]",
      "text/plain": [
       "<Figure size 640x480 with 1 Axes>"
      ]
     },
     "metadata": {},
     "output_type": "display_data"
    }
   ],
   "source": [
    "plt.plot(num_threads, time_arr, marker='o')\n",
    "\n",
    "plt.xlabel('Number of Threads')\n",
    "plt.ylabel('Execution Time (seconds)')\n",
    "plt.title('Execution Time vs Number of Threads')\n",
    "\n",
    "plt.show()"
   ]
  }
 ],
 "metadata": {
  "kernelspec": {
   "display_name": "Python 3 (ipykernel)",
   "language": "python",
   "name": "python3"
  },
  "language_info": {
   "codemirror_mode": {
    "name": "ipython",
    "version": 3
   },
   "file_extension": ".py",
   "mimetype": "text/x-python",
   "name": "python",
   "nbconvert_exporter": "python",
   "pygments_lexer": "ipython3",
   "version": "3.11.0"
  }
 },
 "nbformat": 4,
 "nbformat_minor": 5
}
